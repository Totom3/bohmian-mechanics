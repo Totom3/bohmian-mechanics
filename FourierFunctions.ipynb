{
 "cells": [
  {
   "cell_type": "code",
   "execution_count": 1,
   "metadata": {},
   "outputs": [],
   "source": [
    "import torch\n",
    "import torch.nn as nn\n",
    "import torch.optim as optim\n",
    "import torch.nn.functional as nnf\n",
    "import numpy as np\n",
    "import matplotlib.pyplot as plt\n",
    "from scipy.stats import truncnorm\n",
    "\n",
    "torch.set_default_dtype(torch.float64)"
   ]
  },
  {
   "cell_type": "code",
   "execution_count": 2,
   "metadata": {},
   "outputs": [],
   "source": [
    "def is_array(X):\n",
    "    return isinstance(X, (list, tuple, np.ndarray))"
   ]
  },
  {
   "cell_type": "code",
   "execution_count": 3,
   "metadata": {},
   "outputs": [],
   "source": [
    "degree = 3\n",
    "K = torch.tensor([i for i in range(degree)], dtype=torch.float64)\n",
    "\n",
    "def basis_cos(x):\n",
    "    if is_array(x):\n",
    "        return np.cos(np.outer(K, x))\n",
    "    \n",
    "    if torch.is_tensor(x):\n",
    "        return torch.cos(torch.ger(K, x))\n",
    "    \n",
    "    return np.cos(x * K)\n",
    "\n",
    "def basis_sin(x):\n",
    "    if is_array(x):\n",
    "        return np.sin(np.outer(K, x))\n",
    "    \n",
    "    if torch.is_tensor(x):\n",
    "        return torch.sin(torch.ger(K, x))\n",
    "    \n",
    "    return np.cos(x * K)\n",
    "\n",
    "class FourierFunction:\n",
    "    \n",
    "    def __init__(self, A, B):\n",
    "        if len(A) != len(K) or len(B) != len(K):\n",
    "            raise ValueError(\"Invalid input shape\")\n",
    "        \n",
    "        self.A = A\n",
    "        self.B = B\n",
    "    \n",
    "    def compute(self, X):\n",
    "        return (self.A @ basis_cos(X)) + (self.B @ basis_sin(X))\n",
    "    \n",
    "    def derive1(self, X):\n",
    "        return ((self.B * K) @ basis_cos(X)) - ((self.A * K) @ basis_sin(X))\n",
    "    \n",
    "    def derive2(self, X):\n",
    "        return -((self.A * (K**2)) @ basis_cos(X)) - ((self.B * (K**2)) @ basis_sin(X))\n",
    "    \n",
    "    def derive3(self, X):\n",
    "        return -((self.B * (K**3)) @ basis_cos(X)) + ((self.A * (K**3)) @ basis_sin(X))\n",
    "    \n",
    "    def derive4(self, X):\n",
    "        return ((self.A * (K**4)) @ basis_cos(X)) + ((self.B * (K**4)) @ basis_sin(X))\n",
    "\n"
   ]
  },
  {
   "cell_type": "code",
   "execution_count": 4,
   "metadata": {},
   "outputs": [],
   "source": [
    "def generate_coefficients():\n",
    "    lim = 10\n",
    "    sigma = 0.1\n",
    "    a, b = -lim/sigma, +lim/sigma \n",
    "    A = sigma * truncnorm.rvs(a, b, size=degree)\n",
    "    B = sigma * truncnorm.rvs(a, b, size=degree)\n",
    "    return torch.from_numpy(A), torch.from_numpy(B)"
   ]
  },
  {
   "cell_type": "code",
   "execution_count": 5,
   "metadata": {},
   "outputs": [
    {
     "data": {
      "image/png": "[encoded data removed]",
      "text/plain": [
       "<Figure size 432x288 with 1 Axes>"
      ]
     },
     "metadata": {
      "needs_background": "light"
     },
     "output_type": "display_data"
    }
   ],
   "source": [
    "# Test FourierFunction and its derivatives\n",
    "debug_func = True\n",
    "X = torch.linspace(-6, 6, 1000)\n",
    "if debug_func:\n",
    "    A, B = generate_coefficients()\n",
    "    func = FourierFunction(A, B)\n",
    "    plt.plot(X.numpy(), func.compute(X).numpy(), label=\"Function\")\n",
    "    plt.plot(X.numpy(), func.derive1(X).numpy(), label=\"1st Derivative\")\n",
    "    plt.axhline(color='gray', linestyle='--')\n",
    "    plt.legend()\n",
    "    plt.show()"
   ]
  },
  {
   "cell_type": "code",
   "execution_count": null,
   "metadata": {},
   "outputs": [],
   "source": [
    "class DerivativeNet(nn.Module):\n",
    "\n",
    "    def __init__(self):\n",
    "        super(DerivativeNet, self).__init__()\n",
    "        self.fct1 = nn.Linear(1000, 10_000)\n",
    "        self.fct2 = nn.Linear(10_000, 10_000)\n",
    "        self.fct3 = nn.Linear(10_000, 4000)\n",
    "\n",
    "    def forward(self, x):\n",
    "        x = torch.tanh(self.fct1(x))\n",
    "        x = torch.tanh(self.fct2(x))\n",
    "        x = self.fct3(x)\n",
    "        return x"
   ]
  },
  {
   "cell_type": "code",
   "execution_count": 15,
   "metadata": {},
   "outputs": [
    {
     "name": "stdout",
     "output_type": "stream",
     "text": [
      "Epoch 0: 0.19\n",
      "Epoch 20: 0.16\n",
      "Epoch 40: 0.66\n",
      "Epoch 60: 0.15\n",
      "Epoch 80: 0.65\n",
      "Epoch 100: 1.71\n",
      "Epoch 120: 0.50\n",
      "Epoch 140: 2.51\n",
      "Epoch 160: 0.07\n",
      "Epoch 180: 1.70\n",
      "Epoch 200: 0.53\n",
      "Epoch 220: 2.37\n",
      "Epoch 240: 0.24\n",
      "Epoch 260: 1.05\n",
      "Epoch 280: 0.22\n",
      "Epoch 300: 0.35\n",
      "Epoch 320: 2.26\n",
      "Epoch 340: 1.01\n",
      "Epoch 360: 1.14\n",
      "Epoch 380: 1.22\n",
      "Epoch 400: 0.66\n",
      "Epoch 420: 1.26\n",
      "Epoch 440: 0.07\n",
      "Epoch 460: 0.87\n",
      "Epoch 480: 1.99\n",
      "Epoch 500: 1.78\n",
      "Epoch 520: 0.36\n",
      "Epoch 540: 0.02\n",
      "Epoch 560: 1.04\n",
      "Epoch 580: 0.94\n",
      "Epoch 600: 0.73\n",
      "Epoch 620: 0.27\n",
      "Epoch 640: 0.25\n",
      "Epoch 660: 1.31\n",
      "Epoch 680: 0.90\n",
      "Epoch 700: 0.38\n",
      "Epoch 720: 0.06\n",
      "Epoch 740: 0.26\n",
      "Epoch 760: 0.33\n",
      "Epoch 780: 0.09\n",
      "Epoch 800: 0.09\n",
      "Epoch 820: 0.40\n",
      "Epoch 840: 0.07\n",
      "Epoch 860: 0.21\n",
      "Epoch 880: 0.51\n",
      "Epoch 900: 2.88\n",
      "Epoch 920: 0.82\n",
      "Epoch 940: 0.24\n"
     ]
    },
    {
     "ename": "KeyboardInterrupt",
     "evalue": "",
     "output_type": "error",
     "traceback": [
      "\u001b[1;31m---------------------------------------------------------------------------\u001b[0m",
      "\u001b[1;31mKeyboardInterrupt\u001b[0m                         Traceback (most recent call last)",
      "\u001b[1;32m<ipython-input-15-280648b021fc>\u001b[0m in \u001b[0;36m<module>\u001b[1;34m\u001b[0m\n\u001b[0;32m     12\u001b[0m     \u001b[0moutput\u001b[0m \u001b[1;33m=\u001b[0m \u001b[0mnet\u001b[0m\u001b[1;33m(\u001b[0m\u001b[0mfunc\u001b[0m\u001b[1;33m.\u001b[0m\u001b[0mcompute\u001b[0m\u001b[1;33m(\u001b[0m\u001b[0mX\u001b[0m\u001b[1;33m)\u001b[0m\u001b[1;33m)\u001b[0m\u001b[1;33m\u001b[0m\u001b[1;33m\u001b[0m\u001b[0m\n\u001b[0;32m     13\u001b[0m     \u001b[0mloss\u001b[0m \u001b[1;33m=\u001b[0m \u001b[0mcriterion\u001b[0m\u001b[1;33m(\u001b[0m\u001b[0moutput\u001b[0m\u001b[1;33m,\u001b[0m \u001b[0mtarget\u001b[0m\u001b[1;33m)\u001b[0m\u001b[1;33m\u001b[0m\u001b[1;33m\u001b[0m\u001b[0m\n\u001b[1;32m---> 14\u001b[1;33m     \u001b[0mloss\u001b[0m\u001b[1;33m.\u001b[0m\u001b[0mbackward\u001b[0m\u001b[1;33m(\u001b[0m\u001b[1;33m)\u001b[0m\u001b[1;33m\u001b[0m\u001b[1;33m\u001b[0m\u001b[0m\n\u001b[0m\u001b[0;32m     15\u001b[0m     \u001b[0moptimizer\u001b[0m\u001b[1;33m.\u001b[0m\u001b[0mstep\u001b[0m\u001b[1;33m(\u001b[0m\u001b[1;33m)\u001b[0m\u001b[1;33m\u001b[0m\u001b[1;33m\u001b[0m\u001b[0m\n\u001b[0;32m     16\u001b[0m     \u001b[1;32mif\u001b[0m \u001b[0mepoch\u001b[0m \u001b[1;33m%\u001b[0m \u001b[1;36m20\u001b[0m \u001b[1;33m==\u001b[0m \u001b[1;36m0\u001b[0m\u001b[1;33m:\u001b[0m\u001b[1;33m\u001b[0m\u001b[1;33m\u001b[0m\u001b[0m\n",
      "\u001b[1;32m~\\Anaconda3\\lib\\site-packages\\torch\\tensor.py\u001b[0m in \u001b[0;36mbackward\u001b[1;34m(self, gradient, retain_graph, create_graph)\u001b[0m\n\u001b[0;32m    100\u001b[0m                 \u001b[0mproducts\u001b[0m\u001b[1;33m.\u001b[0m \u001b[0mDefaults\u001b[0m \u001b[0mto\u001b[0m\u001b[0;31m \u001b[0m\u001b[0;31m`\u001b[0m\u001b[0;31m`\u001b[0m\u001b[1;32mFalse\u001b[0m\u001b[0;31m`\u001b[0m\u001b[0;31m`\u001b[0m\u001b[1;33m.\u001b[0m\u001b[1;33m\u001b[0m\u001b[1;33m\u001b[0m\u001b[0m\n\u001b[0;32m    101\u001b[0m         \"\"\"\n\u001b[1;32m--> 102\u001b[1;33m         \u001b[0mtorch\u001b[0m\u001b[1;33m.\u001b[0m\u001b[0mautograd\u001b[0m\u001b[1;33m.\u001b[0m\u001b[0mbackward\u001b[0m\u001b[1;33m(\u001b[0m\u001b[0mself\u001b[0m\u001b[1;33m,\u001b[0m \u001b[0mgradient\u001b[0m\u001b[1;33m,\u001b[0m \u001b[0mretain_graph\u001b[0m\u001b[1;33m,\u001b[0m \u001b[0mcreate_graph\u001b[0m\u001b[1;33m)\u001b[0m\u001b[1;33m\u001b[0m\u001b[1;33m\u001b[0m\u001b[0m\n\u001b[0m\u001b[0;32m    103\u001b[0m \u001b[1;33m\u001b[0m\u001b[0m\n\u001b[0;32m    104\u001b[0m     \u001b[1;32mdef\u001b[0m \u001b[0mregister_hook\u001b[0m\u001b[1;33m(\u001b[0m\u001b[0mself\u001b[0m\u001b[1;33m,\u001b[0m \u001b[0mhook\u001b[0m\u001b[1;33m)\u001b[0m\u001b[1;33m:\u001b[0m\u001b[1;33m\u001b[0m\u001b[1;33m\u001b[0m\u001b[0m\n",
      "\u001b[1;32m~\\Anaconda3\\lib\\site-packages\\torch\\autograd\\__init__.py\u001b[0m in \u001b[0;36mbackward\u001b[1;34m(tensors, grad_tensors, retain_graph, create_graph, grad_variables)\u001b[0m\n\u001b[0;32m     88\u001b[0m     Variable._execution_engine.run_backward(\n\u001b[0;32m     89\u001b[0m         \u001b[0mtensors\u001b[0m\u001b[1;33m,\u001b[0m \u001b[0mgrad_tensors\u001b[0m\u001b[1;33m,\u001b[0m \u001b[0mretain_graph\u001b[0m\u001b[1;33m,\u001b[0m \u001b[0mcreate_graph\u001b[0m\u001b[1;33m,\u001b[0m\u001b[1;33m\u001b[0m\u001b[1;33m\u001b[0m\u001b[0m\n\u001b[1;32m---> 90\u001b[1;33m         allow_unreachable=True)  # allow_unreachable flag\n\u001b[0m\u001b[0;32m     91\u001b[0m \u001b[1;33m\u001b[0m\u001b[0m\n\u001b[0;32m     92\u001b[0m \u001b[1;33m\u001b[0m\u001b[0m\n",
      "\u001b[1;31mKeyboardInterrupt\u001b[0m: "
     ]
    }
   ],
   "source": [
    "net = DerivativeNet()\n",
    "criterion = nn.MSELoss()\n",
    "optimizer = optim.SGD(net.parameters(), lr=0.00001)\n",
    "\n",
    "# in your training loop:\n",
    "for epoch in range(10_000):\n",
    "    A, B = generate_coefficients()\n",
    "    func = FourierFunction(A, B)\n",
    "    target = torch.cat((func.derive1(X), func.derive2(X), func.derive3(X), func.derive4(X)))\n",
    "    \n",
    "    optimizer.zero_grad()\n",
    "    output = net(func.compute(X))\n",
    "    loss = criterion(output, target)\n",
    "    loss.backward()\n",
    "    optimizer.step()\n",
    "    if epoch % 20 == 0:\n",
    "        print(\"Epoch \"+str(epoch)+\": \"+(\"%.2f\" % loss.data.item()))"
   ]
  },
  {
   "cell_type": "code",
   "execution_count": null,
   "metadata": {},
   "outputs": [],
   "source": []
  }
 ],
 "metadata": {
  "kernelspec": {
   "display_name": "Python 3",
   "language": "python",
   "name": "python3"
  },
  "language_info": {
   "codemirror_mode": {
    "name": "ipython",
    "version": 3
   },
   "file_extension": ".py",
   "mimetype": "text/x-python",
   "name": "python",
   "nbconvert_exporter": "python",
   "pygments_lexer": "ipython3",
   "version": "3.7.1"
  }
 },
 "nbformat": 4,
 "nbformat_minor": 2
}
