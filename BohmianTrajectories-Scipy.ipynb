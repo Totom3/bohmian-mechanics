{
 "cells": [
  {
   "cell_type": "code",
   "execution_count": null,
   "metadata": {},
   "outputs": [],
   "source": [
    "import numpy as np\n",
    "import matplotlib.pyplot as plt\n",
    "import matplotlib.animation as animation\n",
    "from scipy.integrate import solve_ivp\n",
    "from math import sqrt, pi, exp, erf\n",
    "from numpy import vectorize"
   ]
  },
  {
   "cell_type": "code",
   "execution_count": null,
   "metadata": {},
   "outputs": [],
   "source": [
    "%matplotlib notebook"
   ]
  },
  {
   "cell_type": "code",
   "execution_count": null,
   "metadata": {},
   "outputs": [],
   "source": [
    "# Boundaries of x0 grid\n",
    "bounds_x0 = (-5, 5)\n",
    "\n",
    "# Number of X0 grid points\n",
    "Nx0 = 20000\n",
    "\n",
    "# The x0 grid interval\n",
    "dx0 = (bounds_x0[1] - bounds_x0[0])/Nx0\n",
    "\n",
    "# Boundaries of t grid\n",
    "bounds_t = (0, 10)\n",
    "\n",
    "# Initial Probability Distribution Variables\n",
    "mu = 0\n",
    "sigma = 1\n",
    "\n",
    "# Constants of the experiment\n",
    "h = 1\n",
    "mass = 1\n",
    "h2_m = h*h/mass\n",
    "\n",
    "# Initial kinetic energy (used to determine velocity)\n",
    "K0 = 1"
   ]
  },
  {
   "cell_type": "code",
   "execution_count": null,
   "metadata": {},
   "outputs": [],
   "source": [
    "kernel_size = 9\n",
    "# Utility function to generate gradient matrices\n",
    "def grad_matrix(forward, central, inv):\n",
    "    offset = kernel_size//2\n",
    "    backward = [-x if inv else x for x in reversed(forward)]\n",
    "    mat = np.zeros((Nx0, Nx0), dtype = np.longdouble)\n",
    "    mat[0][0:kernel_size] = forward\n",
    "    mat[-1][-kernel_size:] = backward\n",
    "    for i in range(1, offset):\n",
    "        mat[i][i:i+kernel_size] = forward\n",
    "        mat[-(i+1)][-(kernel_size+i):-i] = backward\n",
    "    for i in range(offset, Nx0-(offset)):\n",
    "        mat[i][i-(offset):i-offset+kernel_size] = central\n",
    "    \n",
    "    return mat\n",
    "\n",
    "# Create spatial gradient operators (1st to 4th order)\n",
    "derive_1 = 1/(840*dx0) * grad_matrix([-2283, 6720, -11760, 15680, -14700, 9408, -3920, 960, -105], [3, -32, 168, -672, 0, 672, -168, 32, -3], True)\n",
    "derive_2 = 1/(5040*(dx0**2)) * grad_matrix([29531, -138528, 312984, -448672, 435330, -284256, 120008, -29664, 3267], [-9, 128, -1008, 8064, -14350, 8064, -1008, 128, -9], False)\n",
    "derive_3 = 1/(240*(dx0**3)) * grad_matrix([-2403, 13960, -36706, 57384, -58280, 39128, -16830, 4216, -469], [-7, 72, -338, 488, 0, -488, 338, -72, 7], True)\n",
    "derive_4 = 1/(240*(dx0**4)) * grad_matrix([3207, -21056, 61156, -102912, 109930, -76352, 33636, -8567, 967], [7, -96, 676, -1952, 2730, -1952, 676, -96, 7], False)"
   ]
  },
  {
   "cell_type": "code",
   "execution_count": null,
   "metadata": {},
   "outputs": [],
   "source": [
    "# Coefficient to obtain truncated Gaussian\n",
    "C = 0.5 * (erf((bounds_x0[1])/(sigma*sqrt(2))) - erf((bounds_x0[0])/(sigma*sqrt(2))))\n",
    "\n",
    "# Computes a truncated Gaussian w.r.t bounds_x0, sigma, and mu.\n",
    "def gaussian(x):\n",
    "    return 1/(C*sigma*sqrt(2*pi)) * exp(-0.5*((x-mu)/sigma)**2) if bounds_x0[0] <= x <= bounds_x0[1] else 0\n",
    "\n",
    "# Computes the classical potential\n",
    "def potential(x):\n",
    "    return 0\n",
    "\n",
    "# Computes the classical force (-grad(V))\n",
    "def force(x):\n",
    "    return 0\n",
    "\n",
    "# Computes the initial quantum potential\n",
    "def initial_quantum_potential(x):\n",
    "    return -0.5 * h2_m * ratio2(x)\n",
    "\n",
    "# Computes the initial quantum force\n",
    "def initial_quantum_force(x):\n",
    "    return -0.5 * h2_m  * -(x-mu)/(2*(sigma**4))\n",
    "\n",
    "# Computes the initial acceleration for a particle at x\n",
    "def initial_acceleration(x):\n",
    "    return 1/mass * (force(x) + initial_quantum_force(x))\n",
    "\n",
    "# Computes the initial R function at time t=0\n",
    "def R0(x):\n",
    "    return sqrt(gaussian(x))\n",
    "\n",
    "# Computes the ratio R0'(x)/R0(x), assuming a Gaussian distribution\n",
    "def ratio1(x):\n",
    "    return -0.5 * (x-mu)/(sigma*sigma)\n",
    "\n",
    "# Computes the ratio R0\"(x)/R0(x), assuming a Gaussian distribution\n",
    "def ratio2(x):\n",
    "    return -0.5 / (sigma*sigma) * (1 - 0.5 * (((x-mu)/sigma)**2))"
   ]
  },
  {
   "cell_type": "code",
   "execution_count": null,
   "metadata": {},
   "outputs": [],
   "source": [
    "# Utility lambda to apply functions to a set of X values\n",
    "_gaussian = vectorize(gaussian)\n",
    "_potential = vectorize(potential)\n",
    "_force = vectorize(force)\n",
    "_initial_quantum_potential = vectorize(initial_quantum_potential)\n",
    "_initial_quantum_force = vectorize(initial_quantum_force)\n",
    "_initial_acceleration = vectorize(initial_acceleration)\n",
    "_R0 = vectorize(R0)\n",
    "_ratio1 = vectorize(ratio1)\n",
    "_ratio2 = vectorize(ratio2)"
   ]
  },
  {
   "cell_type": "code",
   "execution_count": null,
   "metadata": {},
   "outputs": [],
   "source": [
    "x_plot = np.linspace(-5, 5, 1000)\n",
    "fig1 = plt.figure()\n",
    "plt.plot(x_plot, _gaussian(x_plot), label=\"Initial Probability\")\n",
    "plt.plot(x_plot, _initial_quantum_force(x_plot), label=\"Initial Quantum Force\")\n",
    "\n",
    "plt.axhline(linestyle=\"--\", color=\"gray\")\n",
    "plt.legend()\n",
    "fig1.show()"
   ]
  },
  {
   "cell_type": "code",
   "execution_count": null,
   "metadata": {},
   "outputs": [],
   "source": [
    "def ode_derive(t, y):\n",
    "    pos = y[0:Nx0]\n",
    "    vel = y[Nx0:2*Nx0]\n",
    "    \n",
    "    if t == 0:\n",
    "        return np.concatenate((vel, _initial_acceleration(pos)))\n",
    "    \n",
    "    der1 = derive_1 @ pos\n",
    "    der2 = derive_2 @ pos\n",
    "    der3 = 5 * (der2 * der2) / der1\n",
    "    der4 = 45 * (der2**3) / (der1**2)\n",
    "        \n",
    "    ratio = _ratio1(pos)\n",
    "    ratio_sqr = np.square(ratio)\n",
    "    \n",
    "    acc = 1/mass * (\n",
    "                  _force(pos)\n",
    "                + (der1**-3) * (der1*_initial_quantum_force(pos) \n",
    "                + 4*der2*_initial_quantum_potential(pos) \n",
    "                + h2_m * (\n",
    "                      ratio_sqr*der2\n",
    "                    + 3*ratio*(der2**2)/der1\n",
    "                    - ratio*der3 \n",
    "                    - 2.5*(der2**3)/(der1**2) \n",
    "                    + 2*der2*der3/der1 \n",
    "                    - 0.25*der4)))\n",
    "    \n",
    "    return np.concatenate((vel, acc))\n",
    "\n",
    "x0 = np.linspace(bounds_x0[0], bounds_x0[1], Nx0, dtype=np.longdouble)\n",
    "v0 = np.full((Nx0), sqrt(2*K0/mass), dtype=np.longdouble)\n",
    "y0 = np.concatenate((x0, v0))\n",
    "\n",
    "result = solve_ivp(ode_derive, (0, 1), y0)"
   ]
  },
  {
   "cell_type": "code",
   "execution_count": null,
   "metadata": {
    "scrolled": false
   },
   "outputs": [],
   "source": [
    "fig2 = plt.figure()\n",
    "for i in range(1, 20):\n",
    "    plt.plot(result.y[1000*i], result.t)\n",
    "\n",
    "fig2.show()"
   ]
  },
  {
   "cell_type": "code",
   "execution_count": null,
   "metadata": {},
   "outputs": [],
   "source": [
    "N=50\n",
    "fig3=plt.figure()\n",
    "for i in range(0, Nx0):\n",
    "    plt.plot(result.y[Nx0+i][:-N], result.t[:-N])\n",
    "\n",
    "plt.xlim(-50, 100)\n",
    "fig3.show()"
   ]
  },
  {
   "cell_type": "code",
   "execution_count": null,
   "metadata": {},
   "outputs": [],
   "source": [
    "idx=len(result.t)-N\n",
    "fig, ax = plt.subplots()\n",
    "x_plot = np.linspace(0, 100, Nx0)\n",
    "yt = np.transpose(result.y)\n",
    "pos = yt[0][0:Nx0]\n",
    "vel = yt[0][Nx0:2*Nx0]\n",
    "\n",
    "der1 = derive_1 @ pos\n",
    "der2 = derive_2 @ pos\n",
    "der3 = derive_3 @ pos\n",
    "der4 = derive_4 @ pos\n",
    "\n",
    "line, = ax.plot(x_plot, derive_1 @ yt[0][0:Nx0])\n",
    "plt.ylim(np.min(0.8), np.max(1.2))\n",
    "\n",
    "def animate(i):\n",
    "    d = derive_1 @ yt[i][0:Nx0]\n",
    "    line.set_ydata(d)  # update the data\n",
    "    return line,\n",
    "\n",
    "def init():\n",
    "    return animate(0)\n",
    "\n",
    "ani = animation.FuncAnimation(fig, animate, np.arange(0, len(result.t)-N), init_func=init,\n",
    "                              interval=100, blit=True)"
   ]
  },
  {
   "cell_type": "code",
   "execution_count": null,
   "metadata": {},
   "outputs": [],
   "source": []
  }
 ],
 "metadata": {
  "kernelspec": {
   "display_name": "Python 3",
   "language": "python",
   "name": "python3"
  },
  "language_info": {
   "codemirror_mode": {
    "name": "ipython",
    "version": 3
   },
   "file_extension": ".py",
   "mimetype": "text/x-python",
   "name": "python",
   "nbconvert_exporter": "python",
   "pygments_lexer": "ipython3",
   "version": "3.7.1"
  }
 },
 "nbformat": 4,
 "nbformat_minor": 2
}
