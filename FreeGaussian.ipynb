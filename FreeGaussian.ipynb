{
 "cells": [
  {
   "cell_type": "code",
   "execution_count": 1,
   "metadata": {},
   "outputs": [],
   "source": [
    "import numpy as np\n",
    "from numpy import pi, cos, sin, tan\n",
    "import matplotlib.pyplot as plt"
   ]
  },
  {
   "cell_type": "code",
   "execution_count": 2,
   "metadata": {},
   "outputs": [],
   "source": [
    "h = 1 #The Planck constant\n",
    "mass = 1 #The mass of the particle\n",
    "sigma = 1 #The initial standard deviation\n",
    "mu = -5 #The initial center\n",
    "initial_momentum = 1 #The initial momentum"
   ]
  },
  {
   "cell_type": "code",
   "execution_count": 3,
   "metadata": {},
   "outputs": [],
   "source": [
    "quantiles_count = 101 # The number of intial spatial grid points\n",
    "dp0 = (1-0)/(quantiles_count-1)\n",
    "P0 = np.linspace(0, 1, quantiles_count)\n",
    "P0_shifted = pi*(P0 - 0.5)\n",
    "\n",
    "# Here are two useful expressions\n",
    "p0_cosines = cos(P0_shifted)\n",
    "p0_sines = sin(P0_shifted)\n",
    "\n",
    "time_steps = 1000 # The number of time steps\n",
    "dt = 0.01 # The time increment\n",
    "\n",
    "gamma = 1/3 # The Cauchy parameter\n",
    "gamma_pi = gamma * pi"
   ]
  },
  {
   "cell_type": "code",
   "execution_count": 4,
   "metadata": {},
   "outputs": [],
   "source": [
    "# Initialize the Cauchy quantiles positions and velocities\n",
    "P = np.zeros([time_steps, quantiles_count])\n",
    "V = np.zeros([time_steps, quantiles_count])\n",
    "\n",
    "P[0, :] = P0\n",
    "V[0, :] = initial_momentum/mass * (p0_cosines**2)/gamma_pi\n",
    "\n",
    "# Utility method to exclude the boundary points from an array\n",
    "def midpoints(Y):\n",
    "    return Y[1:quantiles_count-1]"
   ]
  },
  {
   "cell_type": "code",
   "execution_count": 5,
   "metadata": {},
   "outputs": [],
   "source": [
    "# Utility method to compute finite difference coefficients\n",
    "def fin_diff_calc(stencil_size, order, shift):\n",
    "    # s is the shift of the left end of the stencil from the approximation point\n",
    "    M = np.zeros([stencil_size, stencil_size])\n",
    "    for n in range(stencil_size):\n",
    "        for k in range(stencil_size):\n",
    "            if n == 0:\n",
    "                M[n, k] = 1\n",
    "            else:\n",
    "                M[n, k] = (shift+k)**n\n",
    "    right = np.zeros([stencil_size])\n",
    "    right[order] = np.math.factorial(order)\n",
    "    ans = np.matmul(np.linalg.inv(M), right)\n",
    "    return ans\n",
    "\n",
    "# Returns a finite diffrence matrix which can be used to derive vectors\n",
    "def derivation_matrix(stencil_size, order, gp_count):\n",
    "    wei = np.zeros([gp_count, gp_count])\n",
    "    for i in range(gp_count):\n",
    "        if i < stencil_size//2:\n",
    "            wei[i, :stencil_size] = fin_diff_calc(stencil_size, order, -i)\n",
    "        elif i >= gp_count - (stencil_size//2):\n",
    "            wei[i, gp_count - stencil_size:] = fin_diff_calc(stencil_size, order, -stencil_size + gp_count-i)\n",
    "        else:\n",
    "            if stencil_size % 2 == 1:\n",
    "                wei[i, i-(stencil_size//2): i+(stencil_size//2)+1] = fin_diff_calc(stencil_size, order, -(stencil_size//2))\n",
    "            else:\n",
    "                wei[i, i-(stencil_size//2) + 1: i+(stencil_size//2)] = fin_diff_calc(stencil_size, order, -(stencil_size//2))\n",
    "    return wei"
   ]
  },
  {
   "cell_type": "code",
   "execution_count": 6,
   "metadata": {
    "scrolled": false
   },
   "outputs": [],
   "source": [
    "# Compute the derivation matrices\n",
    "wei1 = derivation_matrix(15, 1, quantiles_count)\n",
    "wei2 = derivation_matrix(15, 2, quantiles_count)\n",
    "wei3 = derivation_matrix(15, 3, quantiles_count)"
   ]
  },
  {
   "cell_type": "code",
   "execution_count": 7,
   "metadata": {},
   "outputs": [],
   "source": [
    "# Computes the first derivative of Y with respect to x0\n",
    "def derive1(Y):\n",
    "    return np.matmul(wei1, Y)/dp0\n",
    "\n",
    "# Computes the second derivative of Y with respect to x0\n",
    "def derive2(Y):\n",
    "    return np.matmul(wei2, Y)/(dp0**2)\n",
    "\n",
    "# Computes the third derivative of Y with respect to x0\n",
    "def derive3(Y):\n",
    "    return np.matmul(wei3, Y)/(dp0**3)"
   ]
  },
  {
   "cell_type": "code",
   "execution_count": 8,
   "metadata": {},
   "outputs": [],
   "source": [
    "def xderive1(Y):\n",
    "    return (1/(gamma_pi))*(p0_cosines**2) * derive1(Y)\n",
    "\n",
    "def xderive2(Y):\n",
    "    return (1/(gamma_pi)**2)*(p0_cosines**4) * derive2(Y) - (2/(gamma_pi**2))*(p0_cosines**3)*p0_sines*(derive1(Y))\n",
    "\n",
    "def xderive3(Y):\n",
    "    term1 = 1/(gamma_pi**3) * (p0_cosines**6) * derive3(Y)\n",
    "    term2 = -6/(gamma * gamma_pi**2) *(p0_cosines**5)*p0_sines * (derive2(Y))\n",
    "    term3 = 1/(gamma**2 * gamma_pi) * 6*(p0_sines**2)*(p0_cosines**4) - 2*(p0_cosines**6) * (derive1(Y))\n",
    "    return term1 + term2 + term3"
   ]
  },
  {
   "cell_type": "code",
   "execution_count": 9,
   "metadata": {},
   "outputs": [],
   "source": [
    "test_derive = False\n",
    "if test_derive:\n",
    "    # Test derive1\n",
    "    print(\"Derive1:\\n \"+ str(abs(derive1(P0**2) - 2*P0))+\"\\n\")\n",
    "\n",
    "    # Test derive2\n",
    "    print(\"Derive2:\\n \"+ str(abs(derive2(P0**2) - 2))+\"\\n\")\n",
    "\n",
    "    # Test derive3\n",
    "    print(\"Derive3:\\n \"+ str(abs(derive3(P0**2) - 0)))"
   ]
  },
  {
   "cell_type": "code",
   "execution_count": 10,
   "metadata": {},
   "outputs": [],
   "source": [
    "# Evaluate the initial X position of the distribution\n",
    "# The boundary points are at infinity, so they are omitted\n",
    "x0 = gamma*tan(P0_shifted[1:quantiles_count-1])\n",
    "\n",
    "# A is R0'/R0\n",
    "ratio1 = -0.5*(x0-mu)/(sigma**2)\n",
    "\n",
    "# Compute the initial quantum potential -R0''/R0\n",
    "qp0 = (2*sigma**2 - (x0-mu)**2)/(4*sigma**4)\n",
    "\n",
    "# Compute the initial quantum force (R0''/R0)' = -Q0'\n",
    "qf0 = (x0-mu)/(2*sigma**4)"
   ]
  },
  {
   "cell_type": "code",
   "execution_count": 11,
   "metadata": {},
   "outputs": [
    {
     "name": "stderr",
     "output_type": "stream",
     "text": [
      "C:\\Users\\Totom3\\Anaconda3\\lib\\site-packages\\ipykernel_launcher.py:18: RuntimeWarning: overflow encountered in square\n",
      "C:\\Users\\Totom3\\Anaconda3\\lib\\site-packages\\ipykernel_launcher.py:8: RuntimeWarning: invalid value encountered in cos\n",
      "  \n",
      "C:\\Users\\Totom3\\Anaconda3\\lib\\site-packages\\ipykernel_launcher.py:18: RuntimeWarning: invalid value encountered in tan\n",
      "C:\\Users\\Totom3\\Anaconda3\\lib\\site-packages\\ipykernel_launcher.py:28: RuntimeWarning: invalid value encountered in cos\n"
     ]
    }
   ],
   "source": [
    "# And now the dynamics\n",
    "for i in range(time_steps-1):\n",
    "    shifted_P = pi*(P[i] - 0.5)\n",
    "    shifted_P_mid = midpoints(shifted_P)\n",
    "    \n",
    "    # Eta = 1/x'. The boundaries are set to 1.\n",
    "    eta = np.ones((quantiles_count)) #This is 1/x'\n",
    "    eta[1:quantiles_count-1] = midpoints( (cos(shifted_P))**2/(gamma_pi*xderive1(shifted_P)) )\n",
    "    \n",
    "    eta_mid = midpoints(eta)\n",
    "    eta1 = midpoints(xderive1(eta))\n",
    "    eta2 = midpoints(xderive2(eta))\n",
    "    eta3 = midpoints(xderive3(eta))\n",
    "    \n",
    "    # The main step: computing the quantile acceleration\n",
    "    # Because of the length of the formula, it is split into multiple lines\n",
    "    # Boundary points are excluded from the computation\n",
    "    QA1 = -2*pi*tan(shifted_P_mid)*(midpoints(V[i])**2)\n",
    "    QA2 = qf0 * (eta_mid**3)\n",
    "    QA3 = (-4*qp0 - 2*ratio1**2) * eta1 * (eta_mid**2)\n",
    "    QA4 = 2 * ratio1 * (eta_mid * (eta1)**2 + (eta_mid**2) * eta2)\n",
    "    QA5 = (eta_mid * eta1 * eta2)\n",
    "    QA6 = 0.5 * (eta_mid**2) * eta3\n",
    "    \n",
    "    # Putting it all together\n",
    "    # The boundary values are set to zero\n",
    "    acc = np.zeros((quantiles_count))\n",
    "    acc[1:quantiles_count-1] = QA1 + ((h/mass)**2 / (2*gamma_pi)) * (cos(shifted_P_mid)**2) * (QA1 + QA2 + QA3 + QA4 + QA5 + QA6)\n",
    "    \n",
    "    # Updating the quantile velocities and positions\n",
    "    V[i+1] = V[i] + acc*dt    \n",
    "    P[i+1] = P[i] + V[i]*dt + 0.5*acc*(dt**2)"
   ]
  },
  {
   "cell_type": "code",
   "execution_count": 15,
   "metadata": {},
   "outputs": [
    {
     "data": {
      "image/png": "[encoded data removed]",
      "text/plain": [
       "<Figure size 432x288 with 1 Axes>"
      ]
     },
     "metadata": {
      "needs_background": "light"
     },
     "output_type": "display_data"
    }
   ],
   "source": [
    "plt.plot(P[6])\n",
    "plt.show()"
   ]
  },
  {
   "cell_type": "code",
   "execution_count": null,
   "metadata": {},
   "outputs": [],
   "source": []
  }
 ],
 "metadata": {
  "kernelspec": {
   "display_name": "Python 3",
   "language": "python",
   "name": "python3"
  },
  "language_info": {
   "codemirror_mode": {
    "name": "ipython",
    "version": 3
   },
   "file_extension": ".py",
   "mimetype": "text/x-python",
   "name": "python",
   "nbconvert_exporter": "python",
   "pygments_lexer": "ipython3",
   "version": "3.7.1"
  }
 },
 "nbformat": 4,
 "nbformat_minor": 2
}
