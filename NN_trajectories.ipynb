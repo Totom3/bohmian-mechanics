{
 "cells": [
  {
   "cell_type": "code",
   "execution_count": 1,
   "metadata": {},
   "outputs": [],
   "source": [
    "import numpy as np\n",
    "import torch\n",
    "import torch.nn as nn\n",
    "import torch.optim as optim"
   ]
  },
  {
   "cell_type": "code",
   "execution_count": 2,
   "metadata": {},
   "outputs": [],
   "source": [
    "torch.set_default_dtype(torch.float64)"
   ]
  },
  {
   "cell_type": "code",
   "execution_count": 3,
   "metadata": {},
   "outputs": [],
   "source": [
    "x = np.load('saves/try0_traj.npy')\n",
    "potential = np.load('saves/try0_pot.npy')"
   ]
  },
  {
   "cell_type": "code",
   "execution_count": 4,
   "metadata": {},
   "outputs": [
    {
     "data": {
      "text/plain": [
       "(1000, 50000)"
      ]
     },
     "execution_count": 4,
     "metadata": {},
     "output_type": "execute_result"
    }
   ],
   "source": [
    "x.shape"
   ]
  },
  {
   "cell_type": "code",
   "execution_count": 5,
   "metadata": {},
   "outputs": [
    {
     "data": {
      "text/plain": [
       "(5001,)"
      ]
     },
     "execution_count": 5,
     "metadata": {},
     "output_type": "execute_result"
    }
   ],
   "source": [
    "potential.shape"
   ]
  },
  {
   "cell_type": "code",
   "execution_count": 6,
   "metadata": {},
   "outputs": [],
   "source": [
    "nt = x.shape[0]\n",
    "N = x.shape[1]"
   ]
  },
  {
   "cell_type": "code",
   "execution_count": 7,
   "metadata": {},
   "outputs": [],
   "source": [
    "batch_size = 50\n",
    "# make a random batch\n",
    "\n",
    "def batch(x):\n",
    "    batchy = np.zeros([batch_size, nt, 3])\n",
    "    true_next = np.zeros([batch_size, nt, 1])\n",
    "    for i in range(batch_size):\n",
    "        k = np.random.randint(0, N-3)\n",
    "        batchy[i, :, :] = x[:, k:k+3]\n",
    "        true_next[i, :, 0] = x[:, k+3]\n",
    "    return torch.from_numpy(batchy), torch.from_numpy(true_next)"
   ]
  },
  {
   "cell_type": "code",
   "execution_count": 8,
   "metadata": {},
   "outputs": [
    {
     "data": {
      "text/plain": [
       "torch.Size([50, 1000, 3])"
      ]
     },
     "execution_count": 8,
     "metadata": {},
     "output_type": "execute_result"
    }
   ],
   "source": [
    "batch(x)[0].shape"
   ]
  },
  {
   "cell_type": "code",
   "execution_count": 9,
   "metadata": {},
   "outputs": [],
   "source": [
    "class TNet(nn.Module):\n",
    "\n",
    "    def __init__(self):\n",
    "        super(TNet, self).__init__()\n",
    "        self.pad1 = nn.ReplicationPad2d((1, 1, 0, 0))\n",
    "        self.pad2 = nn.ReplicationPad1d(1)\n",
    "        self.con1 = nn.Conv2d(1, 9, kernel_size = (3,3))\n",
    "        self.con2 = nn.Conv1d(9, 18, kernel_size = 3)\n",
    "        self.con3 = nn.Conv1d(18, 27, kernel_size = 3)\n",
    "        self.nonlin = nn.SELU()\n",
    "        self.fct = nn.Linear(27, 1)\n",
    "\n",
    "\n",
    "    def forward(self, x):\n",
    "        x = self.con1(x)\n",
    "        x = torch.squeeze(x)\n",
    "        x = self.pad2(x)\n",
    "        x = self.nonlin(x)\n",
    "        x = self.con2(x)\n",
    "        x = self.pad2(x)\n",
    "        x = self.nonlin(x)\n",
    "        x = self.con3(x)\n",
    "        x = self.pad2(x)\n",
    "        x = self.nonlin(x)\n",
    "        x = x.transpose(1,2)\n",
    "        x = self.fct(x)\n",
    "        return x"
   ]
  },
  {
   "cell_type": "code",
   "execution_count": 10,
   "metadata": {},
   "outputs": [],
   "source": [
    "net = TNet()\n",
    "net = net.cuda()\n",
    "# net.load_state_dict(torch.load('saves/tnet'))\n",
    "criterion = nn.MSELoss()\n",
    "optimizer = optim.Adam(net.parameters(), lr=0.001)"
   ]
  },
  {
   "cell_type": "code",
   "execution_count": 11,
   "metadata": {},
   "outputs": [
    {
     "name": "stdout",
     "output_type": "stream",
     "text": [
      "Epoch 0: 159.811501\n",
      "Epoch 1000: 0.357593\n",
      "Epoch 2000: 0.031242\n",
      "Epoch 3000: 0.021961\n",
      "Epoch 4000: 0.011433\n",
      "Epoch 5000: 0.006985\n",
      "Epoch 6000: 0.006059\n",
      "Epoch 7000: 0.003803\n",
      "Epoch 8000: 0.002233\n",
      "Epoch 9000: 0.004266\n",
      "Epoch 10000: 0.001601\n",
      "Epoch 11000: 0.001678\n",
      "Epoch 12000: 0.001016\n",
      "Epoch 13000: 0.000947\n",
      "Epoch 14000: 0.000789\n",
      "Epoch 15000: 0.000504\n",
      "Epoch 16000: 0.000211\n",
      "Epoch 17000: 0.000247\n",
      "Epoch 18000: 0.000210\n",
      "Epoch 19000: 0.000214\n",
      "Epoch 20000: 0.000144\n"
     ]
    }
   ],
   "source": [
    "for epoch in range(0, 20_000+1):\n",
    "    optimizer.zero_grad()\n",
    "    \n",
    "    data, true_next = batch(x)\n",
    "    data = data.cuda()\n",
    "    data = torch.unsqueeze(data, 1)\n",
    "    true_next = true_next.cuda()\n",
    "        \n",
    "    output = net(data)\n",
    "\n",
    "    loss = criterion(output, true_next)\n",
    "    loss.backward()\n",
    "    optimizer.step()\n",
    "    if epoch % 1000 == 0:\n",
    "        print(\"Epoch \"+str(epoch)+\": \"+(\"%.6f\" % loss.data.item()))\n",
    "\n",
    "    \n",
    "    if epoch % 10000 == 0:\n",
    "        for g in optimizer.param_groups:\n",
    "            g['lr'] = 0.0002 / 2\n",
    "        torch.save(net.state_dict(), \"saves/tnet\")"
   ]
  },
  {
   "cell_type": "code",
   "execution_count": null,
   "metadata": {},
   "outputs": [],
   "source": []
  }
 ],
 "metadata": {
  "kernelspec": {
   "display_name": "Python 3",
   "language": "python",
   "name": "python3"
  },
  "language_info": {
   "codemirror_mode": {
    "name": "ipython",
    "version": 3
   },
   "file_extension": ".py",
   "mimetype": "text/x-python",
   "name": "python",
   "nbconvert_exporter": "python",
   "pygments_lexer": "ipython3",
   "version": "3.6.2"
  }
 },
 "nbformat": 4,
 "nbformat_minor": 2
}
