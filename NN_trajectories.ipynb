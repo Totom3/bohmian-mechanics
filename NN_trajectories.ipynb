{
 "cells": [
  {
   "cell_type": "code",
   "execution_count": 1,
   "metadata": {},
   "outputs": [],
   "source": [
    "import numpy as np\n",
    "import torch\n",
    "import torch.nn as nn\n",
    "import torch.optim as optim\n",
    "import scipy.interpolate as interpol\n",
    "import matplotlib.pyplot as plt"
   ]
  },
  {
   "cell_type": "code",
   "execution_count": 2,
   "metadata": {},
   "outputs": [],
   "source": [
    "torch.set_default_dtype(torch.float64)"
   ]
  },
  {
   "cell_type": "code",
   "execution_count": 3,
   "metadata": {},
   "outputs": [],
   "source": [
    "xi = -20. #left endpont\n",
    "xf = 20. #right endpoint\n",
    "J = 5001 #number of space nodes\n",
    "Xgrid = np.linspace(xi, xf, J)"
   ]
  },
  {
   "cell_type": "code",
   "execution_count": 4,
   "metadata": {},
   "outputs": [],
   "source": [
    "x = np.load('saves/try0.npy')"
   ]
  },
  {
   "cell_type": "code",
   "execution_count": 5,
   "metadata": {},
   "outputs": [
    {
     "data": {
      "text/plain": [
       "(2, 1000, 50000)"
      ]
     },
     "execution_count": 5,
     "metadata": {},
     "output_type": "execute_result"
    }
   ],
   "source": [
    "x.shape"
   ]
  },
  {
   "cell_type": "code",
   "execution_count": 6,
   "metadata": {},
   "outputs": [],
   "source": [
    "nt = x.shape[1]\n",
    "N = x.shape[2]"
   ]
  },
  {
   "cell_type": "code",
   "execution_count": 7,
   "metadata": {},
   "outputs": [],
   "source": [
    "batch_size = 50\n",
    "# make a random batch\n",
    "\n",
    "def batch(x):\n",
    "    batchy = np.zeros([batch_size, 2, nt, 3])\n",
    "    true_next = np.zeros([batch_size, nt, 1])\n",
    "    for i in range(batch_size):\n",
    "        k = np.random.randint(0, N-3)\n",
    "        batchy[i, :, :, :] = x[:, :, k:k+3]\n",
    "        true_next[i, :, 0] = x[0, :, k+3]\n",
    "    return batchy, true_next"
   ]
  },
  {
   "cell_type": "code",
   "execution_count": 8,
   "metadata": {},
   "outputs": [],
   "source": [
    "baba = batch(x)"
   ]
  },
  {
   "cell_type": "code",
   "execution_count": 9,
   "metadata": {},
   "outputs": [
    {
     "data": {
      "text/plain": [
       "(50, 1000, 1)"
      ]
     },
     "execution_count": 9,
     "metadata": {},
     "output_type": "execute_result"
    }
   ],
   "source": [
    "baba[1].shape"
   ]
  },
  {
   "cell_type": "code",
   "execution_count": 10,
   "metadata": {},
   "outputs": [],
   "source": [
    "class TNet(nn.Module):\n",
    "\n",
    "    def __init__(self):\n",
    "        super(TNet, self).__init__()\n",
    "        self.pad1 = nn.ReplicationPad2d((1, 1, 0, 0))\n",
    "        self.pad2 = nn.ReplicationPad1d(1)\n",
    "        self.con1 = nn.Conv2d(2, 9, kernel_size = (3,3))\n",
    "        self.con2 = nn.Conv1d(9, 18, kernel_size = 3)\n",
    "        self.con3 = nn.Conv1d(18, 27, kernel_size = 3)\n",
    "        self.nonlin = nn.SELU()\n",
    "        self.fct = nn.Linear(27, 1)\n",
    "\n",
    "\n",
    "    def forward(self, x):\n",
    "        x = self.con1(x)\n",
    "        x = torch.squeeze(x)\n",
    "        x = self.pad2(x)\n",
    "        x = self.nonlin(x)\n",
    "        x = self.con2(x)\n",
    "        x = self.pad2(x)\n",
    "        x = self.nonlin(x)\n",
    "        x = self.con3(x)\n",
    "        x = self.pad2(x)\n",
    "        x = self.nonlin(x)\n",
    "        x = x.transpose(1,2)\n",
    "        x = self.fct(x)\n",
    "        return x"
   ]
  },
  {
   "cell_type": "code",
   "execution_count": 11,
   "metadata": {},
   "outputs": [],
   "source": [
    "net = TNet()\n",
    "net = net.cuda()\n",
    "net.load_state_dict(torch.load('saves/tnet'))\n",
    "criterion = nn.MSELoss()\n",
    "optimizer = optim.Adam(net.parameters(), lr=0.0002)"
   ]
  },
  {
   "cell_type": "code",
   "execution_count": 12,
   "metadata": {},
   "outputs": [
    {
     "name": "stdout",
     "output_type": "stream",
     "text": [
      "Epoch 0: 0.000171\n",
      "Epoch 1000: 0.000136\n",
      "Epoch 2000: 0.000142\n",
      "Epoch 3000: 0.000163\n",
      "Epoch 4000: 0.000141\n",
      "Epoch 5000: 0.000142\n",
      "Epoch 6000: 0.000145\n",
      "Epoch 7000: 0.000146\n",
      "Epoch 8000: 0.000111\n",
      "Epoch 9000: 0.000117\n",
      "Epoch 10000: 0.000090\n",
      "Epoch 11000: 0.000101\n",
      "Epoch 12000: 0.000095\n",
      "Epoch 13000: 0.000103\n",
      "Epoch 14000: 0.000080\n",
      "Epoch 15000: 0.000119\n",
      "Epoch 16000: 0.000084\n",
      "Epoch 17000: 0.000187\n",
      "Epoch 18000: 0.000292\n",
      "Epoch 19000: 0.000089\n",
      "Epoch 20000: 0.000073\n",
      "Epoch 21000: 0.000086\n",
      "Epoch 22000: 0.000078\n",
      "Epoch 23000: 0.000072\n",
      "Epoch 24000: 0.000078\n",
      "Epoch 25000: 0.000066\n",
      "Epoch 26000: 0.000072\n",
      "Epoch 27000: 0.000053\n",
      "Epoch 28000: 0.000036\n",
      "Epoch 29000: 0.000061\n",
      "Epoch 30000: 0.000071\n",
      "Epoch 31000: 0.000051\n",
      "Epoch 32000: 0.000108\n",
      "Epoch 33000: 0.000051\n",
      "Epoch 34000: 0.000058\n",
      "Epoch 35000: 0.000053\n",
      "Epoch 36000: 0.000105\n",
      "Epoch 37000: 0.000051\n",
      "Epoch 38000: 0.000047\n",
      "Epoch 39000: 0.000052\n",
      "Epoch 40000: 0.000035\n",
      "Epoch 41000: 0.000049\n",
      "Epoch 42000: 0.000043\n",
      "Epoch 43000: 0.000056\n",
      "Epoch 44000: 0.000040\n",
      "Epoch 45000: 0.000051\n",
      "Epoch 46000: 0.000034\n",
      "Epoch 47000: 0.000037\n",
      "Epoch 48000: 0.000047\n",
      "Epoch 49000: 0.000068\n",
      "Epoch 50000: 0.000042\n"
     ]
    }
   ],
   "source": [
    "for epoch in range(0, 50_000+1):\n",
    "    optimizer.zero_grad()\n",
    "    \n",
    "    data, true_next = batch(x)\n",
    "    data = torch.from_numpy(data).cuda()\n",
    "    true_next = torch.from_numpy(true_next).cuda()\n",
    "        \n",
    "    output = net(data)\n",
    "\n",
    "    loss = criterion(output, true_next)\n",
    "    loss.backward()\n",
    "    optimizer.step()\n",
    "    if epoch % 1000 == 0:\n",
    "        print(\"Epoch \"+str(epoch)+\": \"+(\"%.6f\" % loss.data.item()))\n",
    "\n",
    "    \n",
    "    if epoch % 10000 == 0:\n",
    "        for g in optimizer.param_groups:\n",
    "            g['lr'] = 0.0002 / 2\n",
    "        torch.save(net.state_dict(), \"saves/tnet\")"
   ]
  },
  {
   "cell_type": "code",
   "execution_count": null,
   "metadata": {},
   "outputs": [],
   "source": []
  }
 ],
 "metadata": {
  "kernelspec": {
   "display_name": "Python 3",
   "language": "python",
   "name": "python3"
  },
  "language_info": {
   "codemirror_mode": {
    "name": "ipython",
    "version": 3
   },
   "file_extension": ".py",
   "mimetype": "text/x-python",
   "name": "python",
   "nbconvert_exporter": "python",
   "pygments_lexer": "ipython3",
   "version": "3.6.2"
  }
 },
 "nbformat": 4,
 "nbformat_minor": 2
}
